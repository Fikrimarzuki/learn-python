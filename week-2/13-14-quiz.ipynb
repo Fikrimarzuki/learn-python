{
 "cells": [
  {
   "cell_type": "code",
   "execution_count": 50,
   "metadata": {},
   "outputs": [],
   "source": [
    "import pandas as pd\n",
    "import numpy as np"
   ]
  },
  {
   "cell_type": "code",
   "execution_count": 132,
   "metadata": {},
   "outputs": [
    {
     "output_type": "execute_result",
     "data": {
      "text/plain": "       carat        cut color clarity  depth  table  price     x     y     z\n0       0.23      Ideal     E     SI2   61.5   55.0    326  3.95  3.98  2.43\n1       0.21    Premium     E     SI1   59.8   61.0    326  3.89  3.84  2.31\n2       0.23       Good     E     VS1   56.9   65.0    327  4.05  4.07  2.31\n3       0.29    Premium     I     VS2   62.4   58.0    334  4.20  4.23  2.63\n4       0.31       Good     J     SI2   63.3   58.0    335  4.34  4.35  2.75\n...      ...        ...   ...     ...    ...    ...    ...   ...   ...   ...\n53935   0.72      Ideal     D     SI1   60.8   57.0   2757  5.75  5.76  3.50\n53936   0.72       Good     D     SI1   63.1   55.0   2757  5.69  5.75  3.61\n53937   0.70  Very Good     D     SI1   62.8   60.0   2757  5.66  5.68  3.56\n53938   0.86    Premium     H     SI2   61.0   58.0   2757  6.15  6.12  3.74\n53939   0.75      Ideal     D     SI2   62.2   55.0   2757  5.83  5.87  3.64\n\n[53940 rows x 10 columns]",
      "text/html": "<div>\n<style scoped>\n    .dataframe tbody tr th:only-of-type {\n        vertical-align: middle;\n    }\n\n    .dataframe tbody tr th {\n        vertical-align: top;\n    }\n\n    .dataframe thead th {\n        text-align: right;\n    }\n</style>\n<table border=\"1\" class=\"dataframe\">\n  <thead>\n    <tr style=\"text-align: right;\">\n      <th></th>\n      <th>carat</th>\n      <th>cut</th>\n      <th>color</th>\n      <th>clarity</th>\n      <th>depth</th>\n      <th>table</th>\n      <th>price</th>\n      <th>x</th>\n      <th>y</th>\n      <th>z</th>\n    </tr>\n  </thead>\n  <tbody>\n    <tr>\n      <th>0</th>\n      <td>0.23</td>\n      <td>Ideal</td>\n      <td>E</td>\n      <td>SI2</td>\n      <td>61.5</td>\n      <td>55.0</td>\n      <td>326</td>\n      <td>3.95</td>\n      <td>3.98</td>\n      <td>2.43</td>\n    </tr>\n    <tr>\n      <th>1</th>\n      <td>0.21</td>\n      <td>Premium</td>\n      <td>E</td>\n      <td>SI1</td>\n      <td>59.8</td>\n      <td>61.0</td>\n      <td>326</td>\n      <td>3.89</td>\n      <td>3.84</td>\n      <td>2.31</td>\n    </tr>\n    <tr>\n      <th>2</th>\n      <td>0.23</td>\n      <td>Good</td>\n      <td>E</td>\n      <td>VS1</td>\n      <td>56.9</td>\n      <td>65.0</td>\n      <td>327</td>\n      <td>4.05</td>\n      <td>4.07</td>\n      <td>2.31</td>\n    </tr>\n    <tr>\n      <th>3</th>\n      <td>0.29</td>\n      <td>Premium</td>\n      <td>I</td>\n      <td>VS2</td>\n      <td>62.4</td>\n      <td>58.0</td>\n      <td>334</td>\n      <td>4.20</td>\n      <td>4.23</td>\n      <td>2.63</td>\n    </tr>\n    <tr>\n      <th>4</th>\n      <td>0.31</td>\n      <td>Good</td>\n      <td>J</td>\n      <td>SI2</td>\n      <td>63.3</td>\n      <td>58.0</td>\n      <td>335</td>\n      <td>4.34</td>\n      <td>4.35</td>\n      <td>2.75</td>\n    </tr>\n    <tr>\n      <th>...</th>\n      <td>...</td>\n      <td>...</td>\n      <td>...</td>\n      <td>...</td>\n      <td>...</td>\n      <td>...</td>\n      <td>...</td>\n      <td>...</td>\n      <td>...</td>\n      <td>...</td>\n    </tr>\n    <tr>\n      <th>53935</th>\n      <td>0.72</td>\n      <td>Ideal</td>\n      <td>D</td>\n      <td>SI1</td>\n      <td>60.8</td>\n      <td>57.0</td>\n      <td>2757</td>\n      <td>5.75</td>\n      <td>5.76</td>\n      <td>3.50</td>\n    </tr>\n    <tr>\n      <th>53936</th>\n      <td>0.72</td>\n      <td>Good</td>\n      <td>D</td>\n      <td>SI1</td>\n      <td>63.1</td>\n      <td>55.0</td>\n      <td>2757</td>\n      <td>5.69</td>\n      <td>5.75</td>\n      <td>3.61</td>\n    </tr>\n    <tr>\n      <th>53937</th>\n      <td>0.70</td>\n      <td>Very Good</td>\n      <td>D</td>\n      <td>SI1</td>\n      <td>62.8</td>\n      <td>60.0</td>\n      <td>2757</td>\n      <td>5.66</td>\n      <td>5.68</td>\n      <td>3.56</td>\n    </tr>\n    <tr>\n      <th>53938</th>\n      <td>0.86</td>\n      <td>Premium</td>\n      <td>H</td>\n      <td>SI2</td>\n      <td>61.0</td>\n      <td>58.0</td>\n      <td>2757</td>\n      <td>6.15</td>\n      <td>6.12</td>\n      <td>3.74</td>\n    </tr>\n    <tr>\n      <th>53939</th>\n      <td>0.75</td>\n      <td>Ideal</td>\n      <td>D</td>\n      <td>SI2</td>\n      <td>62.2</td>\n      <td>55.0</td>\n      <td>2757</td>\n      <td>5.83</td>\n      <td>5.87</td>\n      <td>3.64</td>\n    </tr>\n  </tbody>\n</table>\n<p>53940 rows × 10 columns</p>\n</div>"
     },
     "metadata": {},
     "execution_count": 132
    }
   ],
   "source": [
    "df = pd.read_csv('diamonds.csv')\n",
    "df.drop('Unnamed: 0', axis=1, inplace=True)\n",
    "df"
   ]
  },
  {
   "cell_type": "code",
   "execution_count": 267,
   "metadata": {},
   "outputs": [
    {
     "output_type": "execute_result",
     "data": {
      "text/plain": "             cut color clarity  depth  table  price     x     y     z\ncarat                                                                \n0.23       Ideal     E     SI2   61.5   55.0    326  3.95  3.98  2.43\n0.21     Premium     E     SI1   59.8   61.0    326  3.89  3.84  2.31\n0.23        Good     E     VS1   56.9   65.0    327  4.05  4.07  2.31\n0.29     Premium     I     VS2   62.4   58.0    334  4.20  4.23  2.63\n0.31        Good     J     SI2   63.3   58.0    335  4.34  4.35  2.75\n...          ...   ...     ...    ...    ...    ...   ...   ...   ...\n0.72       Ideal     D     SI1   60.8   57.0   2757  5.75  5.76  3.50\n0.72        Good     D     SI1   63.1   55.0   2757  5.69  5.75  3.61\n0.70   Very Good     D     SI1   62.8   60.0   2757  5.66  5.68  3.56\n0.86     Premium     H     SI2   61.0   58.0   2757  6.15  6.12  3.74\n0.75       Ideal     D     SI2   62.2   55.0   2757  5.83  5.87  3.64\n\n[53940 rows x 9 columns]",
      "text/html": "<div>\n<style scoped>\n    .dataframe tbody tr th:only-of-type {\n        vertical-align: middle;\n    }\n\n    .dataframe tbody tr th {\n        vertical-align: top;\n    }\n\n    .dataframe thead th {\n        text-align: right;\n    }\n</style>\n<table border=\"1\" class=\"dataframe\">\n  <thead>\n    <tr style=\"text-align: right;\">\n      <th></th>\n      <th>cut</th>\n      <th>color</th>\n      <th>clarity</th>\n      <th>depth</th>\n      <th>table</th>\n      <th>price</th>\n      <th>x</th>\n      <th>y</th>\n      <th>z</th>\n    </tr>\n    <tr>\n      <th>carat</th>\n      <th></th>\n      <th></th>\n      <th></th>\n      <th></th>\n      <th></th>\n      <th></th>\n      <th></th>\n      <th></th>\n      <th></th>\n    </tr>\n  </thead>\n  <tbody>\n    <tr>\n      <th>0.23</th>\n      <td>Ideal</td>\n      <td>E</td>\n      <td>SI2</td>\n      <td>61.5</td>\n      <td>55.0</td>\n      <td>326</td>\n      <td>3.95</td>\n      <td>3.98</td>\n      <td>2.43</td>\n    </tr>\n    <tr>\n      <th>0.21</th>\n      <td>Premium</td>\n      <td>E</td>\n      <td>SI1</td>\n      <td>59.8</td>\n      <td>61.0</td>\n      <td>326</td>\n      <td>3.89</td>\n      <td>3.84</td>\n      <td>2.31</td>\n    </tr>\n    <tr>\n      <th>0.23</th>\n      <td>Good</td>\n      <td>E</td>\n      <td>VS1</td>\n      <td>56.9</td>\n      <td>65.0</td>\n      <td>327</td>\n      <td>4.05</td>\n      <td>4.07</td>\n      <td>2.31</td>\n    </tr>\n    <tr>\n      <th>0.29</th>\n      <td>Premium</td>\n      <td>I</td>\n      <td>VS2</td>\n      <td>62.4</td>\n      <td>58.0</td>\n      <td>334</td>\n      <td>4.20</td>\n      <td>4.23</td>\n      <td>2.63</td>\n    </tr>\n    <tr>\n      <th>0.31</th>\n      <td>Good</td>\n      <td>J</td>\n      <td>SI2</td>\n      <td>63.3</td>\n      <td>58.0</td>\n      <td>335</td>\n      <td>4.34</td>\n      <td>4.35</td>\n      <td>2.75</td>\n    </tr>\n    <tr>\n      <th>...</th>\n      <td>...</td>\n      <td>...</td>\n      <td>...</td>\n      <td>...</td>\n      <td>...</td>\n      <td>...</td>\n      <td>...</td>\n      <td>...</td>\n      <td>...</td>\n    </tr>\n    <tr>\n      <th>0.72</th>\n      <td>Ideal</td>\n      <td>D</td>\n      <td>SI1</td>\n      <td>60.8</td>\n      <td>57.0</td>\n      <td>2757</td>\n      <td>5.75</td>\n      <td>5.76</td>\n      <td>3.50</td>\n    </tr>\n    <tr>\n      <th>0.72</th>\n      <td>Good</td>\n      <td>D</td>\n      <td>SI1</td>\n      <td>63.1</td>\n      <td>55.0</td>\n      <td>2757</td>\n      <td>5.69</td>\n      <td>5.75</td>\n      <td>3.61</td>\n    </tr>\n    <tr>\n      <th>0.70</th>\n      <td>Very Good</td>\n      <td>D</td>\n      <td>SI1</td>\n      <td>62.8</td>\n      <td>60.0</td>\n      <td>2757</td>\n      <td>5.66</td>\n      <td>5.68</td>\n      <td>3.56</td>\n    </tr>\n    <tr>\n      <th>0.86</th>\n      <td>Premium</td>\n      <td>H</td>\n      <td>SI2</td>\n      <td>61.0</td>\n      <td>58.0</td>\n      <td>2757</td>\n      <td>6.15</td>\n      <td>6.12</td>\n      <td>3.74</td>\n    </tr>\n    <tr>\n      <th>0.75</th>\n      <td>Ideal</td>\n      <td>D</td>\n      <td>SI2</td>\n      <td>62.2</td>\n      <td>55.0</td>\n      <td>2757</td>\n      <td>5.83</td>\n      <td>5.87</td>\n      <td>3.64</td>\n    </tr>\n  </tbody>\n</table>\n<p>53940 rows × 9 columns</p>\n</div>"
     },
     "metadata": {},
     "execution_count": 267
    }
   ],
   "source": [
    "buyer = df.copy().set_index('carat')\n",
    "# buyer.loc[0.23].loc['price'] # ERROR\n",
    "# buyer.iloc[1].iloc[0]  # GET\n",
    "# buyer.loc['0.23'].price # ERROR\n",
    "# buyer['price']['0.23'] # ERROR\n",
    "# buyer['0.23']['price'] # ERROR\n",
    "buyer"
   ]
  },
  {
   "cell_type": "code",
   "execution_count": 82,
   "metadata": {},
   "outputs": [
    {
     "output_type": "execute_result",
     "data": {
      "text/plain": "       carat        cut color clarity  depth  table  price     x     y     z\n0       0.23      Ideal     E     SI2   61.5   55.0    326  3.95  3.98  2.43\n1       0.23       Good     E     VS1   56.9   65.0    327  4.05  4.07  2.31\n2       0.21    Premium     E     SI1   59.8   61.0    326  3.89  3.84  2.31\n3       0.29    Premium     I     VS2   62.4   58.0    334  4.20  4.23  2.63\n4       0.31       Good     J     SI2   63.3   58.0    335  4.34  4.35  2.75\n...      ...        ...   ...     ...    ...    ...    ...   ...   ...   ...\n53935   0.72      Ideal     D     SI1   60.8   57.0   2757  5.75  5.76  3.50\n53936   0.72       Good     D     SI1   63.1   55.0   2757  5.69  5.75  3.61\n53937   0.70  Very Good     D     SI1   62.8   60.0   2757  5.66  5.68  3.56\n53938   0.86    Premium     H     SI2   61.0   58.0   2757  6.15  6.12  3.74\n53939   0.75      Ideal     D     SI2   62.2   55.0   2757  5.83  5.87  3.64\n\n[53940 rows x 10 columns]",
      "text/html": "<div>\n<style scoped>\n    .dataframe tbody tr th:only-of-type {\n        vertical-align: middle;\n    }\n\n    .dataframe tbody tr th {\n        vertical-align: top;\n    }\n\n    .dataframe thead th {\n        text-align: right;\n    }\n</style>\n<table border=\"1\" class=\"dataframe\">\n  <thead>\n    <tr style=\"text-align: right;\">\n      <th></th>\n      <th>carat</th>\n      <th>cut</th>\n      <th>color</th>\n      <th>clarity</th>\n      <th>depth</th>\n      <th>table</th>\n      <th>price</th>\n      <th>x</th>\n      <th>y</th>\n      <th>z</th>\n    </tr>\n  </thead>\n  <tbody>\n    <tr>\n      <th>0</th>\n      <td>0.23</td>\n      <td>Ideal</td>\n      <td>E</td>\n      <td>SI2</td>\n      <td>61.5</td>\n      <td>55.0</td>\n      <td>326</td>\n      <td>3.95</td>\n      <td>3.98</td>\n      <td>2.43</td>\n    </tr>\n    <tr>\n      <th>1</th>\n      <td>0.23</td>\n      <td>Good</td>\n      <td>E</td>\n      <td>VS1</td>\n      <td>56.9</td>\n      <td>65.0</td>\n      <td>327</td>\n      <td>4.05</td>\n      <td>4.07</td>\n      <td>2.31</td>\n    </tr>\n    <tr>\n      <th>2</th>\n      <td>0.21</td>\n      <td>Premium</td>\n      <td>E</td>\n      <td>SI1</td>\n      <td>59.8</td>\n      <td>61.0</td>\n      <td>326</td>\n      <td>3.89</td>\n      <td>3.84</td>\n      <td>2.31</td>\n    </tr>\n    <tr>\n      <th>3</th>\n      <td>0.29</td>\n      <td>Premium</td>\n      <td>I</td>\n      <td>VS2</td>\n      <td>62.4</td>\n      <td>58.0</td>\n      <td>334</td>\n      <td>4.20</td>\n      <td>4.23</td>\n      <td>2.63</td>\n    </tr>\n    <tr>\n      <th>4</th>\n      <td>0.31</td>\n      <td>Good</td>\n      <td>J</td>\n      <td>SI2</td>\n      <td>63.3</td>\n      <td>58.0</td>\n      <td>335</td>\n      <td>4.34</td>\n      <td>4.35</td>\n      <td>2.75</td>\n    </tr>\n    <tr>\n      <th>...</th>\n      <td>...</td>\n      <td>...</td>\n      <td>...</td>\n      <td>...</td>\n      <td>...</td>\n      <td>...</td>\n      <td>...</td>\n      <td>...</td>\n      <td>...</td>\n      <td>...</td>\n    </tr>\n    <tr>\n      <th>53935</th>\n      <td>0.72</td>\n      <td>Ideal</td>\n      <td>D</td>\n      <td>SI1</td>\n      <td>60.8</td>\n      <td>57.0</td>\n      <td>2757</td>\n      <td>5.75</td>\n      <td>5.76</td>\n      <td>3.50</td>\n    </tr>\n    <tr>\n      <th>53936</th>\n      <td>0.72</td>\n      <td>Good</td>\n      <td>D</td>\n      <td>SI1</td>\n      <td>63.1</td>\n      <td>55.0</td>\n      <td>2757</td>\n      <td>5.69</td>\n      <td>5.75</td>\n      <td>3.61</td>\n    </tr>\n    <tr>\n      <th>53937</th>\n      <td>0.70</td>\n      <td>Very Good</td>\n      <td>D</td>\n      <td>SI1</td>\n      <td>62.8</td>\n      <td>60.0</td>\n      <td>2757</td>\n      <td>5.66</td>\n      <td>5.68</td>\n      <td>3.56</td>\n    </tr>\n    <tr>\n      <th>53938</th>\n      <td>0.86</td>\n      <td>Premium</td>\n      <td>H</td>\n      <td>SI2</td>\n      <td>61.0</td>\n      <td>58.0</td>\n      <td>2757</td>\n      <td>6.15</td>\n      <td>6.12</td>\n      <td>3.74</td>\n    </tr>\n    <tr>\n      <th>53939</th>\n      <td>0.75</td>\n      <td>Ideal</td>\n      <td>D</td>\n      <td>SI2</td>\n      <td>62.2</td>\n      <td>55.0</td>\n      <td>2757</td>\n      <td>5.83</td>\n      <td>5.87</td>\n      <td>3.64</td>\n    </tr>\n  </tbody>\n</table>\n<p>53940 rows × 10 columns</p>\n</div>"
     },
     "metadata": {},
     "execution_count": 82
    }
   ],
   "source": [
    "# C\n",
    "df.iloc[1], df.iloc[2] = df.iloc[2], df.iloc[1]\n",
    "df"
   ]
  },
  {
   "cell_type": "code",
   "execution_count": 83,
   "metadata": {},
   "outputs": [
    {
     "output_type": "execute_result",
     "data": {
      "text/plain": "Ideal        21551\nPremium      13791\nSI1          13065\nVS2          12258\nVery Good    12082\n             ...  \n10045            1\n10042            1\n10039            1\n3809             1\n10.01            1\nLength: 12759, dtype: int64"
     },
     "metadata": {},
     "execution_count": 83
    }
   ],
   "source": [
    "# D\n",
    "pd.value_counts(df.values.ravel())"
   ]
  },
  {
   "cell_type": "code",
   "execution_count": 69,
   "metadata": {},
   "outputs": [
    {
     "output_type": "execute_result",
     "data": {
      "text/plain": "array([[0.23, 'Ideal', 'E', ..., 3.95, 3.98, 2.43],\n       [0.21, 'Premium', 'E', ..., 3.89, 3.84, 2.31],\n       [0.23, 'Good', 'E', ..., 4.05, 4.07, 2.31],\n       ...,\n       [0.7, 'Very Good', 'D', ..., 5.66, 5.68, 3.56],\n       [0.86, 'Premium', 'H', ..., 6.15, 6.12, 3.74],\n       [0.75, 'Ideal', 'D', ..., 5.83, 5.87, 3.64]], dtype=object)"
     },
     "metadata": {},
     "execution_count": 69
    }
   ],
   "source": [
    "# B\n",
    "np.array(df)"
   ]
  },
  {
   "cell_type": "code",
   "execution_count": 99,
   "metadata": {},
   "outputs": [
    {
     "output_type": "execute_result",
     "data": {
      "text/plain": "       carat        cut color clarity  depth  table   price     x     y     z\n0       0.23      Ideal     E     SI2   61.5   55.0   326.0  3.95  3.98  2.43\n1       0.23       Good     E     VS1   56.9   65.0   327.0  4.05  4.07  2.31\n2       0.21    Premium     E     SI1   59.8   61.0   326.0  3.89  3.84  2.31\n3       0.29    Premium     I     VS2   62.4   58.0   334.0  4.20  4.23  2.63\n4       0.31       Good     J     SI2   63.3   58.0   335.0  4.34  4.35  2.75\n...      ...        ...   ...     ...    ...    ...     ...   ...   ...   ...\n53936   0.72       Good     D     SI1   63.1   55.0  2757.0  5.69  5.75  3.61\n53937   0.70  Very Good     D     SI1   62.8   60.0  2757.0  5.66  5.68  3.56\n53938   0.86    Premium     H     SI2   61.0   58.0  2757.0  6.15  6.12  3.74\n53939   0.75      Ideal     D     SI2   62.2   55.0  2757.0  5.83  5.87  3.64\nBaru     NaN        NaN   NaN     NaN    NaN    NaN     NaN   NaN   NaN   NaN\n\n[53941 rows x 10 columns]",
      "text/html": "<div>\n<style scoped>\n    .dataframe tbody tr th:only-of-type {\n        vertical-align: middle;\n    }\n\n    .dataframe tbody tr th {\n        vertical-align: top;\n    }\n\n    .dataframe thead th {\n        text-align: right;\n    }\n</style>\n<table border=\"1\" class=\"dataframe\">\n  <thead>\n    <tr style=\"text-align: right;\">\n      <th></th>\n      <th>carat</th>\n      <th>cut</th>\n      <th>color</th>\n      <th>clarity</th>\n      <th>depth</th>\n      <th>table</th>\n      <th>price</th>\n      <th>x</th>\n      <th>y</th>\n      <th>z</th>\n    </tr>\n  </thead>\n  <tbody>\n    <tr>\n      <th>0</th>\n      <td>0.23</td>\n      <td>Ideal</td>\n      <td>E</td>\n      <td>SI2</td>\n      <td>61.5</td>\n      <td>55.0</td>\n      <td>326.0</td>\n      <td>3.95</td>\n      <td>3.98</td>\n      <td>2.43</td>\n    </tr>\n    <tr>\n      <th>1</th>\n      <td>0.23</td>\n      <td>Good</td>\n      <td>E</td>\n      <td>VS1</td>\n      <td>56.9</td>\n      <td>65.0</td>\n      <td>327.0</td>\n      <td>4.05</td>\n      <td>4.07</td>\n      <td>2.31</td>\n    </tr>\n    <tr>\n      <th>2</th>\n      <td>0.21</td>\n      <td>Premium</td>\n      <td>E</td>\n      <td>SI1</td>\n      <td>59.8</td>\n      <td>61.0</td>\n      <td>326.0</td>\n      <td>3.89</td>\n      <td>3.84</td>\n      <td>2.31</td>\n    </tr>\n    <tr>\n      <th>3</th>\n      <td>0.29</td>\n      <td>Premium</td>\n      <td>I</td>\n      <td>VS2</td>\n      <td>62.4</td>\n      <td>58.0</td>\n      <td>334.0</td>\n      <td>4.20</td>\n      <td>4.23</td>\n      <td>2.63</td>\n    </tr>\n    <tr>\n      <th>4</th>\n      <td>0.31</td>\n      <td>Good</td>\n      <td>J</td>\n      <td>SI2</td>\n      <td>63.3</td>\n      <td>58.0</td>\n      <td>335.0</td>\n      <td>4.34</td>\n      <td>4.35</td>\n      <td>2.75</td>\n    </tr>\n    <tr>\n      <th>...</th>\n      <td>...</td>\n      <td>...</td>\n      <td>...</td>\n      <td>...</td>\n      <td>...</td>\n      <td>...</td>\n      <td>...</td>\n      <td>...</td>\n      <td>...</td>\n      <td>...</td>\n    </tr>\n    <tr>\n      <th>53936</th>\n      <td>0.72</td>\n      <td>Good</td>\n      <td>D</td>\n      <td>SI1</td>\n      <td>63.1</td>\n      <td>55.0</td>\n      <td>2757.0</td>\n      <td>5.69</td>\n      <td>5.75</td>\n      <td>3.61</td>\n    </tr>\n    <tr>\n      <th>53937</th>\n      <td>0.70</td>\n      <td>Very Good</td>\n      <td>D</td>\n      <td>SI1</td>\n      <td>62.8</td>\n      <td>60.0</td>\n      <td>2757.0</td>\n      <td>5.66</td>\n      <td>5.68</td>\n      <td>3.56</td>\n    </tr>\n    <tr>\n      <th>53938</th>\n      <td>0.86</td>\n      <td>Premium</td>\n      <td>H</td>\n      <td>SI2</td>\n      <td>61.0</td>\n      <td>58.0</td>\n      <td>2757.0</td>\n      <td>6.15</td>\n      <td>6.12</td>\n      <td>3.74</td>\n    </tr>\n    <tr>\n      <th>53939</th>\n      <td>0.75</td>\n      <td>Ideal</td>\n      <td>D</td>\n      <td>SI2</td>\n      <td>62.2</td>\n      <td>55.0</td>\n      <td>2757.0</td>\n      <td>5.83</td>\n      <td>5.87</td>\n      <td>3.64</td>\n    </tr>\n    <tr>\n      <th>Baru</th>\n      <td>NaN</td>\n      <td>NaN</td>\n      <td>NaN</td>\n      <td>NaN</td>\n      <td>NaN</td>\n      <td>NaN</td>\n      <td>NaN</td>\n      <td>NaN</td>\n      <td>NaN</td>\n      <td>NaN</td>\n    </tr>\n  </tbody>\n</table>\n<p>53941 rows × 10 columns</p>\n</div>"
     },
     "metadata": {},
     "execution_count": 99
    }
   ],
   "source": [
    "Series = pd.Series([6,3,4,6])\n",
    "baru = df.copy()\n",
    "# df = df.assign(Baru = Series)\n",
    "# df['Baru'] = Series\n",
    "# baru.insert(loc=len(baru.columns), column='Baru', value=Series)\n",
    "baru"
   ]
  },
  {
   "cell_type": "code",
   "execution_count": 105,
   "metadata": {},
   "outputs": [
    {
     "output_type": "execute_result",
     "data": {
      "text/plain": "   carat    cut color clarity  depth  table  price     x     y     z\n0   0.23  Ideal     E     SI2   61.5   55.0  326.0  3.95  3.98  2.43\n1   0.23   Good     E     VS1   56.9   65.0  327.0  4.05  4.07  2.31",
      "text/html": "<div>\n<style scoped>\n    .dataframe tbody tr th:only-of-type {\n        vertical-align: middle;\n    }\n\n    .dataframe tbody tr th {\n        vertical-align: top;\n    }\n\n    .dataframe thead th {\n        text-align: right;\n    }\n</style>\n<table border=\"1\" class=\"dataframe\">\n  <thead>\n    <tr style=\"text-align: right;\">\n      <th></th>\n      <th>carat</th>\n      <th>cut</th>\n      <th>color</th>\n      <th>clarity</th>\n      <th>depth</th>\n      <th>table</th>\n      <th>price</th>\n      <th>x</th>\n      <th>y</th>\n      <th>z</th>\n    </tr>\n  </thead>\n  <tbody>\n    <tr>\n      <th>0</th>\n      <td>0.23</td>\n      <td>Ideal</td>\n      <td>E</td>\n      <td>SI2</td>\n      <td>61.5</td>\n      <td>55.0</td>\n      <td>326.0</td>\n      <td>3.95</td>\n      <td>3.98</td>\n      <td>2.43</td>\n    </tr>\n    <tr>\n      <th>1</th>\n      <td>0.23</td>\n      <td>Good</td>\n      <td>E</td>\n      <td>VS1</td>\n      <td>56.9</td>\n      <td>65.0</td>\n      <td>327.0</td>\n      <td>4.05</td>\n      <td>4.07</td>\n      <td>2.31</td>\n    </tr>\n  </tbody>\n</table>\n</div>"
     },
     "metadata": {},
     "execution_count": 105
    }
   ],
   "source": [
    "# baru.iloc[:2]\n",
    "# baru.iloc[['0']]\n",
    "# baru.iloc[0]"
   ]
  },
  {
   "cell_type": "code",
   "execution_count": 115,
   "metadata": {},
   "outputs": [
    {
     "output_type": "execute_result",
     "data": {
      "text/plain": "         cut     carat      depth      table        price         x         y  \\\n0       Fair  1.046137  64.041677  59.053789  4358.757764  6.246894  6.182652   \n1       Good  0.849185  62.365879  58.694639  3928.864452  5.838785  5.850744   \n2      Ideal  0.702837  61.709401  55.951668  3457.541970  5.507451  5.520080   \n3    Premium  0.891955  61.264673  58.746095  4584.257704  5.973887  5.944879   \n4  Very Good  0.806381  61.818275  57.956150  3981.759891  5.740696  5.770026   \n\n          z  \n0  3.982770  \n1  3.639507  \n2  3.401448  \n3  3.647124  \n4  3.559801  ",
      "text/html": "<div>\n<style scoped>\n    .dataframe tbody tr th:only-of-type {\n        vertical-align: middle;\n    }\n\n    .dataframe tbody tr th {\n        vertical-align: top;\n    }\n\n    .dataframe thead th {\n        text-align: right;\n    }\n</style>\n<table border=\"1\" class=\"dataframe\">\n  <thead>\n    <tr style=\"text-align: right;\">\n      <th></th>\n      <th>cut</th>\n      <th>carat</th>\n      <th>depth</th>\n      <th>table</th>\n      <th>price</th>\n      <th>x</th>\n      <th>y</th>\n      <th>z</th>\n    </tr>\n  </thead>\n  <tbody>\n    <tr>\n      <th>0</th>\n      <td>Fair</td>\n      <td>1.046137</td>\n      <td>64.041677</td>\n      <td>59.053789</td>\n      <td>4358.757764</td>\n      <td>6.246894</td>\n      <td>6.182652</td>\n      <td>3.982770</td>\n    </tr>\n    <tr>\n      <th>1</th>\n      <td>Good</td>\n      <td>0.849185</td>\n      <td>62.365879</td>\n      <td>58.694639</td>\n      <td>3928.864452</td>\n      <td>5.838785</td>\n      <td>5.850744</td>\n      <td>3.639507</td>\n    </tr>\n    <tr>\n      <th>2</th>\n      <td>Ideal</td>\n      <td>0.702837</td>\n      <td>61.709401</td>\n      <td>55.951668</td>\n      <td>3457.541970</td>\n      <td>5.507451</td>\n      <td>5.520080</td>\n      <td>3.401448</td>\n    </tr>\n    <tr>\n      <th>3</th>\n      <td>Premium</td>\n      <td>0.891955</td>\n      <td>61.264673</td>\n      <td>58.746095</td>\n      <td>4584.257704</td>\n      <td>5.973887</td>\n      <td>5.944879</td>\n      <td>3.647124</td>\n    </tr>\n    <tr>\n      <th>4</th>\n      <td>Very Good</td>\n      <td>0.806381</td>\n      <td>61.818275</td>\n      <td>57.956150</td>\n      <td>3981.759891</td>\n      <td>5.740696</td>\n      <td>5.770026</td>\n      <td>3.559801</td>\n    </tr>\n  </tbody>\n</table>\n</div>"
     },
     "metadata": {},
     "execution_count": 115
    }
   ],
   "source": [
    "# cut = df.groupby('cut').mean().reset_index()\n",
    "cut = df.groupby('cut', as_index=False).mean()\n",
    "\n",
    "cut"
   ]
  },
  {
   "cell_type": "code",
   "execution_count": 155,
   "metadata": {
    "tags": []
   },
   "outputs": [
    {
     "output_type": "execute_result",
     "data": {
      "text/plain": "       carat        cut color clarity  depth  table  price     x     y     z\n0       0.23      Ideal     E     SI2   61.5   55.0    326  3.95  3.98  2.43\n1       0.21    Premium     E     SI1   59.8   61.0    326  3.89  3.84  2.31\n2       0.23       Good     E     VS1   56.9   65.0    327  4.05  4.07  2.31\n3       0.29    Premium     I     VS2   62.4   58.0    334  4.20  4.23  2.63\n4       0.31       Good     J     SI2   63.3   58.0    335  4.34  4.35  2.75\n...      ...        ...   ...     ...    ...    ...    ...   ...   ...   ...\n53935   0.72      Ideal     D     SI1   60.8   57.0   2757  5.75  5.76  3.50\n53936   0.72       Good     D     SI1   63.1   55.0   2757  5.69  5.75  3.61\n53937   0.70  Very Good     D     SI1   62.8   60.0   2757  5.66  5.68  3.56\n53938   0.86    Premium     H     SI2   61.0   58.0   2757  6.15  6.12  3.74\n53939   0.75      Ideal     D     SI2   62.2   55.0   2757  5.83  5.87  3.64\n\n[53940 rows x 10 columns]",
      "text/html": "<div>\n<style scoped>\n    .dataframe tbody tr th:only-of-type {\n        vertical-align: middle;\n    }\n\n    .dataframe tbody tr th {\n        vertical-align: top;\n    }\n\n    .dataframe thead th {\n        text-align: right;\n    }\n</style>\n<table border=\"1\" class=\"dataframe\">\n  <thead>\n    <tr style=\"text-align: right;\">\n      <th></th>\n      <th>carat</th>\n      <th>cut</th>\n      <th>color</th>\n      <th>clarity</th>\n      <th>depth</th>\n      <th>table</th>\n      <th>price</th>\n      <th>x</th>\n      <th>y</th>\n      <th>z</th>\n    </tr>\n  </thead>\n  <tbody>\n    <tr>\n      <th>0</th>\n      <td>0.23</td>\n      <td>Ideal</td>\n      <td>E</td>\n      <td>SI2</td>\n      <td>61.5</td>\n      <td>55.0</td>\n      <td>326</td>\n      <td>3.95</td>\n      <td>3.98</td>\n      <td>2.43</td>\n    </tr>\n    <tr>\n      <th>1</th>\n      <td>0.21</td>\n      <td>Premium</td>\n      <td>E</td>\n      <td>SI1</td>\n      <td>59.8</td>\n      <td>61.0</td>\n      <td>326</td>\n      <td>3.89</td>\n      <td>3.84</td>\n      <td>2.31</td>\n    </tr>\n    <tr>\n      <th>2</th>\n      <td>0.23</td>\n      <td>Good</td>\n      <td>E</td>\n      <td>VS1</td>\n      <td>56.9</td>\n      <td>65.0</td>\n      <td>327</td>\n      <td>4.05</td>\n      <td>4.07</td>\n      <td>2.31</td>\n    </tr>\n    <tr>\n      <th>3</th>\n      <td>0.29</td>\n      <td>Premium</td>\n      <td>I</td>\n      <td>VS2</td>\n      <td>62.4</td>\n      <td>58.0</td>\n      <td>334</td>\n      <td>4.20</td>\n      <td>4.23</td>\n      <td>2.63</td>\n    </tr>\n    <tr>\n      <th>4</th>\n      <td>0.31</td>\n      <td>Good</td>\n      <td>J</td>\n      <td>SI2</td>\n      <td>63.3</td>\n      <td>58.0</td>\n      <td>335</td>\n      <td>4.34</td>\n      <td>4.35</td>\n      <td>2.75</td>\n    </tr>\n    <tr>\n      <th>...</th>\n      <td>...</td>\n      <td>...</td>\n      <td>...</td>\n      <td>...</td>\n      <td>...</td>\n      <td>...</td>\n      <td>...</td>\n      <td>...</td>\n      <td>...</td>\n      <td>...</td>\n    </tr>\n    <tr>\n      <th>53935</th>\n      <td>0.72</td>\n      <td>Ideal</td>\n      <td>D</td>\n      <td>SI1</td>\n      <td>60.8</td>\n      <td>57.0</td>\n      <td>2757</td>\n      <td>5.75</td>\n      <td>5.76</td>\n      <td>3.50</td>\n    </tr>\n    <tr>\n      <th>53936</th>\n      <td>0.72</td>\n      <td>Good</td>\n      <td>D</td>\n      <td>SI1</td>\n      <td>63.1</td>\n      <td>55.0</td>\n      <td>2757</td>\n      <td>5.69</td>\n      <td>5.75</td>\n      <td>3.61</td>\n    </tr>\n    <tr>\n      <th>53937</th>\n      <td>0.70</td>\n      <td>Very Good</td>\n      <td>D</td>\n      <td>SI1</td>\n      <td>62.8</td>\n      <td>60.0</td>\n      <td>2757</td>\n      <td>5.66</td>\n      <td>5.68</td>\n      <td>3.56</td>\n    </tr>\n    <tr>\n      <th>53938</th>\n      <td>0.86</td>\n      <td>Premium</td>\n      <td>H</td>\n      <td>SI2</td>\n      <td>61.0</td>\n      <td>58.0</td>\n      <td>2757</td>\n      <td>6.15</td>\n      <td>6.12</td>\n      <td>3.74</td>\n    </tr>\n    <tr>\n      <th>53939</th>\n      <td>0.75</td>\n      <td>Ideal</td>\n      <td>D</td>\n      <td>SI2</td>\n      <td>62.2</td>\n      <td>55.0</td>\n      <td>2757</td>\n      <td>5.83</td>\n      <td>5.87</td>\n      <td>3.64</td>\n    </tr>\n  </tbody>\n</table>\n<p>53940 rows × 10 columns</p>\n</div>"
     },
     "metadata": {},
     "execution_count": 155
    }
   ],
   "source": [
    "change = df.copy()\n",
    "# df.loc[df.index[::-1], df.index[::1]]\n",
    "# change = change.loc[change.index[::-1], :]\n",
    "# change = change.iloc[::-1, :]\n",
    "change"
   ]
  },
  {
   "cell_type": "code",
   "execution_count": 186,
   "metadata": {},
   "outputs": [
    {
     "output_type": "execute_result",
     "data": {
      "text/plain": "       carat        cut color clarity  depth  table  price     x     y     z\n0       0.23      Ideal     E     SI2   61.5   55.0    326  3.95  3.98  2.43\n1       0.21    Premium     E     SI1   59.8   61.0    326  3.89  3.84  2.31\n2       0.23       Good     E     VS1   56.9   65.0    327  4.05  4.07  2.31\n3       0.29    Premium     I     VS2   62.4   58.0    334  4.20  4.23  2.63\n4       0.31       Good     J     SI2   63.3   58.0    335  4.34  4.35  2.75\n...      ...        ...   ...     ...    ...    ...    ...   ...   ...   ...\n53935   0.72      Ideal     D     SI1   60.8   57.0   2757  5.75  5.76  3.50\n53936   0.72       Good     D     SI1   63.1   55.0   2757  5.69  5.75  3.61\n53937   0.70  Very Good     D     SI1   62.8   60.0   2757  5.66  5.68  3.56\n53938   0.86    Premium     H     SI2   61.0   58.0   2757  6.15  6.12  3.74\n53939   0.75      Ideal     D     SI2   62.2   55.0   2757  5.83  5.87  3.64\n\n[53940 rows x 10 columns]",
      "text/html": "<div>\n<style scoped>\n    .dataframe tbody tr th:only-of-type {\n        vertical-align: middle;\n    }\n\n    .dataframe tbody tr th {\n        vertical-align: top;\n    }\n\n    .dataframe thead th {\n        text-align: right;\n    }\n</style>\n<table border=\"1\" class=\"dataframe\">\n  <thead>\n    <tr style=\"text-align: right;\">\n      <th></th>\n      <th>carat</th>\n      <th>cut</th>\n      <th>color</th>\n      <th>clarity</th>\n      <th>depth</th>\n      <th>table</th>\n      <th>price</th>\n      <th>x</th>\n      <th>y</th>\n      <th>z</th>\n    </tr>\n  </thead>\n  <tbody>\n    <tr>\n      <th>0</th>\n      <td>0.23</td>\n      <td>Ideal</td>\n      <td>E</td>\n      <td>SI2</td>\n      <td>61.5</td>\n      <td>55.0</td>\n      <td>326</td>\n      <td>3.95</td>\n      <td>3.98</td>\n      <td>2.43</td>\n    </tr>\n    <tr>\n      <th>1</th>\n      <td>0.21</td>\n      <td>Premium</td>\n      <td>E</td>\n      <td>SI1</td>\n      <td>59.8</td>\n      <td>61.0</td>\n      <td>326</td>\n      <td>3.89</td>\n      <td>3.84</td>\n      <td>2.31</td>\n    </tr>\n    <tr>\n      <th>2</th>\n      <td>0.23</td>\n      <td>Good</td>\n      <td>E</td>\n      <td>VS1</td>\n      <td>56.9</td>\n      <td>65.0</td>\n      <td>327</td>\n      <td>4.05</td>\n      <td>4.07</td>\n      <td>2.31</td>\n    </tr>\n    <tr>\n      <th>3</th>\n      <td>0.29</td>\n      <td>Premium</td>\n      <td>I</td>\n      <td>VS2</td>\n      <td>62.4</td>\n      <td>58.0</td>\n      <td>334</td>\n      <td>4.20</td>\n      <td>4.23</td>\n      <td>2.63</td>\n    </tr>\n    <tr>\n      <th>4</th>\n      <td>0.31</td>\n      <td>Good</td>\n      <td>J</td>\n      <td>SI2</td>\n      <td>63.3</td>\n      <td>58.0</td>\n      <td>335</td>\n      <td>4.34</td>\n      <td>4.35</td>\n      <td>2.75</td>\n    </tr>\n    <tr>\n      <th>...</th>\n      <td>...</td>\n      <td>...</td>\n      <td>...</td>\n      <td>...</td>\n      <td>...</td>\n      <td>...</td>\n      <td>...</td>\n      <td>...</td>\n      <td>...</td>\n      <td>...</td>\n    </tr>\n    <tr>\n      <th>53935</th>\n      <td>0.72</td>\n      <td>Ideal</td>\n      <td>D</td>\n      <td>SI1</td>\n      <td>60.8</td>\n      <td>57.0</td>\n      <td>2757</td>\n      <td>5.75</td>\n      <td>5.76</td>\n      <td>3.50</td>\n    </tr>\n    <tr>\n      <th>53936</th>\n      <td>0.72</td>\n      <td>Good</td>\n      <td>D</td>\n      <td>SI1</td>\n      <td>63.1</td>\n      <td>55.0</td>\n      <td>2757</td>\n      <td>5.69</td>\n      <td>5.75</td>\n      <td>3.61</td>\n    </tr>\n    <tr>\n      <th>53937</th>\n      <td>0.70</td>\n      <td>Very Good</td>\n      <td>D</td>\n      <td>SI1</td>\n      <td>62.8</td>\n      <td>60.0</td>\n      <td>2757</td>\n      <td>5.66</td>\n      <td>5.68</td>\n      <td>3.56</td>\n    </tr>\n    <tr>\n      <th>53938</th>\n      <td>0.86</td>\n      <td>Premium</td>\n      <td>H</td>\n      <td>SI2</td>\n      <td>61.0</td>\n      <td>58.0</td>\n      <td>2757</td>\n      <td>6.15</td>\n      <td>6.12</td>\n      <td>3.74</td>\n    </tr>\n    <tr>\n      <th>53939</th>\n      <td>0.75</td>\n      <td>Ideal</td>\n      <td>D</td>\n      <td>SI2</td>\n      <td>62.2</td>\n      <td>55.0</td>\n      <td>2757</td>\n      <td>5.83</td>\n      <td>5.87</td>\n      <td>3.64</td>\n    </tr>\n  </tbody>\n</table>\n<p>53940 rows × 10 columns</p>\n</div>"
     },
     "metadata": {},
     "execution_count": 186
    }
   ],
   "source": [
    "united = df.copy()\n",
    "# united = united.drop(2)\n",
    "united"
   ]
  },
  {
   "cell_type": "code",
   "execution_count": 209,
   "metadata": {},
   "outputs": [
    {
     "output_type": "execute_result",
     "data": {
      "text/plain": "   carat      cut color clarity  depth  table  price     x     y     z\n0   0.23    Ideal     E     SI2   61.5   55.0    326  3.95  3.98  2.43\n1   0.21  Premium     E     SI1   59.8   61.0    326  3.89  3.84  2.31\n2   0.23     Good     E     VS1   56.9   65.0    327  4.05  4.07  2.31\n3   0.29  Premium     I     VS2   62.4   58.0    334  4.20  4.23  2.63",
      "text/html": "<div>\n<style scoped>\n    .dataframe tbody tr th:only-of-type {\n        vertical-align: middle;\n    }\n\n    .dataframe tbody tr th {\n        vertical-align: top;\n    }\n\n    .dataframe thead th {\n        text-align: right;\n    }\n</style>\n<table border=\"1\" class=\"dataframe\">\n  <thead>\n    <tr style=\"text-align: right;\">\n      <th></th>\n      <th>carat</th>\n      <th>cut</th>\n      <th>color</th>\n      <th>clarity</th>\n      <th>depth</th>\n      <th>table</th>\n      <th>price</th>\n      <th>x</th>\n      <th>y</th>\n      <th>z</th>\n    </tr>\n  </thead>\n  <tbody>\n    <tr>\n      <th>0</th>\n      <td>0.23</td>\n      <td>Ideal</td>\n      <td>E</td>\n      <td>SI2</td>\n      <td>61.5</td>\n      <td>55.0</td>\n      <td>326</td>\n      <td>3.95</td>\n      <td>3.98</td>\n      <td>2.43</td>\n    </tr>\n    <tr>\n      <th>1</th>\n      <td>0.21</td>\n      <td>Premium</td>\n      <td>E</td>\n      <td>SI1</td>\n      <td>59.8</td>\n      <td>61.0</td>\n      <td>326</td>\n      <td>3.89</td>\n      <td>3.84</td>\n      <td>2.31</td>\n    </tr>\n    <tr>\n      <th>2</th>\n      <td>0.23</td>\n      <td>Good</td>\n      <td>E</td>\n      <td>VS1</td>\n      <td>56.9</td>\n      <td>65.0</td>\n      <td>327</td>\n      <td>4.05</td>\n      <td>4.07</td>\n      <td>2.31</td>\n    </tr>\n    <tr>\n      <th>3</th>\n      <td>0.29</td>\n      <td>Premium</td>\n      <td>I</td>\n      <td>VS2</td>\n      <td>62.4</td>\n      <td>58.0</td>\n      <td>334</td>\n      <td>4.20</td>\n      <td>4.23</td>\n      <td>2.63</td>\n    </tr>\n  </tbody>\n</table>\n</div>"
     },
     "metadata": {},
     "execution_count": 209
    }
   ],
   "source": [
    "mahal = df.copy()\n",
    "# mahal[~(mahal['price'] > 334)]\n",
    "# mahal[mahal.price <= 334]\n",
    "mahal[(mahal['price'] <= 334)]"
   ]
  },
  {
   "cell_type": "code",
   "execution_count": 215,
   "metadata": {
    "tags": []
   },
   "outputs": [
    {
     "output_type": "execute_result",
     "data": {
      "text/plain": "              carat         depth         table         price             x  \\\ncount  53940.000000  53940.000000  53940.000000  53940.000000  53940.000000   \nmean       0.797940     61.749405     57.457184   3932.799722      5.731157   \nstd        0.474011      1.432621      2.234491   3989.439738      1.121761   \nmin        0.200000     43.000000     43.000000    326.000000      0.000000   \n25%        0.400000     61.000000     56.000000    950.000000      4.710000   \n50%        0.700000     61.800000     57.000000   2401.000000      5.700000   \n75%        1.040000     62.500000     59.000000   5324.250000      6.540000   \nmax        5.010000     79.000000     95.000000  18823.000000     10.740000   \n\n                  y             z  \ncount  53940.000000  53940.000000  \nmean       5.734526      3.538734  \nstd        1.142135      0.705699  \nmin        0.000000      0.000000  \n25%        4.720000      2.910000  \n50%        5.710000      3.530000  \n75%        6.540000      4.040000  \nmax       58.900000     31.800000  ",
      "text/html": "<div>\n<style scoped>\n    .dataframe tbody tr th:only-of-type {\n        vertical-align: middle;\n    }\n\n    .dataframe tbody tr th {\n        vertical-align: top;\n    }\n\n    .dataframe thead th {\n        text-align: right;\n    }\n</style>\n<table border=\"1\" class=\"dataframe\">\n  <thead>\n    <tr style=\"text-align: right;\">\n      <th></th>\n      <th>carat</th>\n      <th>depth</th>\n      <th>table</th>\n      <th>price</th>\n      <th>x</th>\n      <th>y</th>\n      <th>z</th>\n    </tr>\n  </thead>\n  <tbody>\n    <tr>\n      <th>count</th>\n      <td>53940.000000</td>\n      <td>53940.000000</td>\n      <td>53940.000000</td>\n      <td>53940.000000</td>\n      <td>53940.000000</td>\n      <td>53940.000000</td>\n      <td>53940.000000</td>\n    </tr>\n    <tr>\n      <th>mean</th>\n      <td>0.797940</td>\n      <td>61.749405</td>\n      <td>57.457184</td>\n      <td>3932.799722</td>\n      <td>5.731157</td>\n      <td>5.734526</td>\n      <td>3.538734</td>\n    </tr>\n    <tr>\n      <th>std</th>\n      <td>0.474011</td>\n      <td>1.432621</td>\n      <td>2.234491</td>\n      <td>3989.439738</td>\n      <td>1.121761</td>\n      <td>1.142135</td>\n      <td>0.705699</td>\n    </tr>\n    <tr>\n      <th>min</th>\n      <td>0.200000</td>\n      <td>43.000000</td>\n      <td>43.000000</td>\n      <td>326.000000</td>\n      <td>0.000000</td>\n      <td>0.000000</td>\n      <td>0.000000</td>\n    </tr>\n    <tr>\n      <th>25%</th>\n      <td>0.400000</td>\n      <td>61.000000</td>\n      <td>56.000000</td>\n      <td>950.000000</td>\n      <td>4.710000</td>\n      <td>4.720000</td>\n      <td>2.910000</td>\n    </tr>\n    <tr>\n      <th>50%</th>\n      <td>0.700000</td>\n      <td>61.800000</td>\n      <td>57.000000</td>\n      <td>2401.000000</td>\n      <td>5.700000</td>\n      <td>5.710000</td>\n      <td>3.530000</td>\n    </tr>\n    <tr>\n      <th>75%</th>\n      <td>1.040000</td>\n      <td>62.500000</td>\n      <td>59.000000</td>\n      <td>5324.250000</td>\n      <td>6.540000</td>\n      <td>6.540000</td>\n      <td>4.040000</td>\n    </tr>\n    <tr>\n      <th>max</th>\n      <td>5.010000</td>\n      <td>79.000000</td>\n      <td>95.000000</td>\n      <td>18823.000000</td>\n      <td>10.740000</td>\n      <td>58.900000</td>\n      <td>31.800000</td>\n    </tr>\n  </tbody>\n</table>\n</div>"
     },
     "metadata": {},
     "execution_count": 215
    }
   ],
   "source": [
    "df.describe()"
   ]
  },
  {
   "cell_type": "code",
   "execution_count": 224,
   "metadata": {},
   "outputs": [],
   "source": [
    "datafra = pd.DataFrame(df)\n",
    "datalist = pd.DataFrame([1,2,3,4,5])\n",
    "series = pd.Series([1,2,3,4,5])\n",
    "dataseries = pd.DataFrame(series)\n",
    "array = np.full((2,2), 7)\n",
    "dataarray = pd.DataFrame(array)\n"
   ]
  },
  {
   "cell_type": "code",
   "execution_count": 226,
   "metadata": {},
   "outputs": [
    {
     "output_type": "execute_result",
     "data": {
      "text/plain": "C       masaka  orraa\nB  A                 \nNa koo     1.0    4.0\n   ree     5.0    4.0\nNi koo     6.0    NaN\n   ree     6.0    7.0",
      "text/html": "<div>\n<style scoped>\n    .dataframe tbody tr th:only-of-type {\n        vertical-align: middle;\n    }\n\n    .dataframe tbody tr th {\n        vertical-align: top;\n    }\n\n    .dataframe thead th {\n        text-align: right;\n    }\n</style>\n<table border=\"1\" class=\"dataframe\">\n  <thead>\n    <tr style=\"text-align: right;\">\n      <th></th>\n      <th>C</th>\n      <th>masaka</th>\n      <th>orraa</th>\n    </tr>\n    <tr>\n      <th>B</th>\n      <th>A</th>\n      <th></th>\n      <th></th>\n    </tr>\n  </thead>\n  <tbody>\n    <tr>\n      <th rowspan=\"2\" valign=\"top\">Na</th>\n      <th>koo</th>\n      <td>1.0</td>\n      <td>4.0</td>\n    </tr>\n    <tr>\n      <th>ree</th>\n      <td>5.0</td>\n      <td>4.0</td>\n    </tr>\n    <tr>\n      <th rowspan=\"2\" valign=\"top\">Ni</th>\n      <th>koo</th>\n      <td>6.0</td>\n      <td>NaN</td>\n    </tr>\n    <tr>\n      <th>ree</th>\n      <td>6.0</td>\n      <td>7.0</td>\n    </tr>\n  </tbody>\n</table>\n</div>"
     },
     "metadata": {},
     "execution_count": 226
    }
   ],
   "source": [
    "df1 = pd.DataFrame({ 'A' : ['koo', 'koo', 'koo', 'koo', 'koo', 'ree', 'ree', 'ree', 'ree'], 'B' : ['Na', 'Na', 'Na', 'Ni','Ni', 'Na', 'Na', 'Ni', 'Ni'], 'C': ['masaka', 'orraa', 'orraa', 'masaka', 'masaka', 'orraa', 'masaka', 'masaka', 'orraa'], 'D': [1,2,2,3,3,4,5,6,7], 'E': [2,4,5,5,6,6,8,9,9]})\n",
    "df1 = pd.pivot_table(df1, values='D', index=['B', 'A'], columns=['C'], aggfunc='sum')\n",
    "df1"
   ]
  },
  {
   "cell_type": "code",
   "execution_count": 243,
   "metadata": {},
   "outputs": [
    {
     "output_type": "execute_result",
     "data": {
      "text/plain": "    fruit  price  quantity  weight\n0   Apple    4.0      10.0    10.0\n1    Pear    7.0      14.0     NaN\n2  Durian   10.0       2.0    20.0\n3   Grape    NaN       NaN     2.0",
      "text/html": "<div>\n<style scoped>\n    .dataframe tbody tr th:only-of-type {\n        vertical-align: middle;\n    }\n\n    .dataframe tbody tr th {\n        vertical-align: top;\n    }\n\n    .dataframe thead th {\n        text-align: right;\n    }\n</style>\n<table border=\"1\" class=\"dataframe\">\n  <thead>\n    <tr style=\"text-align: right;\">\n      <th></th>\n      <th>fruit</th>\n      <th>price</th>\n      <th>quantity</th>\n      <th>weight</th>\n    </tr>\n  </thead>\n  <tbody>\n    <tr>\n      <th>0</th>\n      <td>Apple</td>\n      <td>4.0</td>\n      <td>10.0</td>\n      <td>10.0</td>\n    </tr>\n    <tr>\n      <th>1</th>\n      <td>Pear</td>\n      <td>7.0</td>\n      <td>14.0</td>\n      <td>NaN</td>\n    </tr>\n    <tr>\n      <th>2</th>\n      <td>Durian</td>\n      <td>10.0</td>\n      <td>2.0</td>\n      <td>20.0</td>\n    </tr>\n    <tr>\n      <th>3</th>\n      <td>Grape</td>\n      <td>NaN</td>\n      <td>NaN</td>\n      <td>2.0</td>\n    </tr>\n  </tbody>\n</table>\n</div>"
     },
     "metadata": {},
     "execution_count": 243
    }
   ],
   "source": [
    "df1 = pd.DataFrame({ 'fruit': ['Apple', 'Pear', 'Durian'], 'price': [4,7, 10], 'quantity': [10,14,2]})\n",
    "df2 = pd.DataFrame({ 'fruit': ['Apple', 'Durian', 'Grape'], 'weight': [10,20,2]})\n",
    "df3 = pd.merge(df1, df2, on='fruit', how='outer')\n",
    "df3\n"
   ]
  },
  {
   "cell_type": "code",
   "execution_count": null,
   "metadata": {},
   "outputs": [],
   "source": []
  }
 ],
 "metadata": {
  "language_info": {
   "codemirror_mode": {
    "name": "ipython",
    "version": 3
   },
   "file_extension": ".py",
   "mimetype": "text/x-python",
   "name": "python",
   "nbconvert_exporter": "python",
   "pygments_lexer": "ipython3",
   "version": "3.6.9-final"
  },
  "orig_nbformat": 2,
  "kernelspec": {
   "name": "python3",
   "display_name": "Python 3"
  }
 },
 "nbformat": 4,
 "nbformat_minor": 2
}