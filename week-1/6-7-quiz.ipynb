{
 "cells": [
  {
   "cell_type": "markdown",
   "metadata": {},
   "source": [
    "<h1>QUIZ</h1>"
   ]
  },
  {
   "cell_type": "markdown",
   "metadata": {},
   "source": [
    "<h2>1.</h2>\n",
    "Agar output yang dihasilkan sesuai, maka masing-masing <apa> harus diganti dengan ?\n",
    "\n",
    "luas_tanah = { 'A': 200 }\n",
    "def luas(<apa>):\n",
    "    for k,v in obj.<apa>():\n",
    "        print(f'Luas tanah {k} adalah {v} meter persegi')\n",
    "\n",
    "luas(luas_tanah)\n",
    "\n",
    "Output:\n",
    "\n",
    "Luas tanah A adalah 200 meter persegin\n",
    "Luas tanah b adalah 300 meter persegi\n",
    "Luas tanah c adalah 500 meter persegi\n",
    "\n",
    "a. luas_tanah, items<br/>\n",
    "b. obj, keys<br/>\n",
    "c. luas_tanah, keys<br/>\n",
    "d. obj, items<br/>\n",
    "e. items, luas_tanah<br/>"
   ]
  },
  {
   "cell_type": "code",
   "execution_count": 1,
   "metadata": {
    "tags": []
   },
   "outputs": [
    {
     "output_type": "stream",
     "name": "stdout",
     "text": "Luas tanah A adalah 200 meter persegi\n"
    }
   ],
   "source": [
    "# Answer 1\n",
    "\n",
    "luas_tanah = { 'A': 200 }\n",
    "def luas(obj):\n",
    "    for k,v in obj.items():\n",
    "        print(f'Luas tanah {k} adalah {v} meter persegi')\n",
    "\n",
    "luas(luas_tanah)"
   ]
  },
  {
   "cell_type": "markdown",
   "metadata": {},
   "source": [
    "<h2>2.</h2>\n",
    "Pada slicing list menggunakan [a:b:c], nilai c dapat berupa? pilih 3 jawaban !<br/>\n",
    "a. float<br/>\n",
    "b. True<br/>\n",
    "c. list<br/>\n",
    "d. int<br/>\n",
    "e. None"
   ]
  },
  {
   "cell_type": "code",
   "execution_count": 6,
   "metadata": {
    "tags": []
   },
   "outputs": [
    {
     "output_type": "stream",
     "name": "stdout",
     "text": "[2, 3, 4, 5]\n[2, 3, 4, 5]\n[2, 3, 4, 5]\n"
    }
   ],
   "source": [
    "# answer 2.\n",
    "a = [1,2,3,4,5,6]\n",
    "\n",
    "print(a[1:-1:True]) # True\n",
    "print(a[1:-1:1]) # Int\n",
    "print(a[1:-1:]) #None"
   ]
  },
  {
   "cell_type": "markdown",
   "metadata": {},
   "source": [
    "<h2>3.</h2>\n",
    "Output dari code berikut adalah?<br/>\n",
    "a. 5 10 20 50 1<br/>\n",
    "b. 10 1 5 2 100<br/>\n",
    "c. 3<br/>\n",
    "d. 5 5 5<br/>\n",
    "e. 5 10 5 20 10"
   ]
  },
  {
   "cell_type": "code",
   "execution_count": 7,
   "metadata": {
    "tags": []
   },
   "outputs": [
    {
     "output_type": "stream",
     "name": "stdout",
     "text": "5 10 20 50 1"
    }
   ],
   "source": [
    "def ambil(duit, dompetbapak):\n",
    "    dompetsaya = 0\n",
    "    for uang in dompetbapak:\n",
    "        if dompetsaya == duit:\n",
    "            return\n",
    "        dompetsaya += 1\n",
    "        yield uang\n",
    "\n",
    "def satuaja(dompetbapak):\n",
    "    didompetsaya = set()\n",
    "    for uang in dompetbapak:\n",
    "        if uang in didompetsaya:\n",
    "            continue\n",
    "        yield uang\n",
    "        didompetsaya.add(uang)\n",
    "\n",
    "def laksanakan(lembar):\n",
    "    uang = [5, 10, 5 ,20, 10, 50, 10, 1, 5, 2, 100]\n",
    "    for duit in ambil(lembar, satuaja(uang)):\n",
    "        print(duit, end=' ')\n",
    "\n",
    "laksanakan(5)"
   ]
  },
  {
   "cell_type": "markdown",
   "metadata": {},
   "source": [
    "<h2>4.</h2>\n",
    "Agar output yang dihasilkan sesuai, maka ... dapat diganti dengan ? pilih 2 jawaban!\n",
    "\n",
    "(1976 > 2004) or (2020 ... 2222)\n",
    "\n",
    "Output:\n",
    "False\n",
    "\n",
    "a. !=<br/>\n",
    "b. ==<br/>\n",
    "c. ><br/>\n",
    "d. <<br/>\n",
    "e. =\n"
   ]
  },
  {
   "cell_type": "code",
   "execution_count": 8,
   "metadata": {
    "tags": []
   },
   "outputs": [
    {
     "output_type": "stream",
     "name": "stdout",
     "text": "False\nFalse\n"
    }
   ],
   "source": [
    "# answer 4.\n",
    "print((1976 > 2004) or (2020 > 2222))\n",
    "print(1976 > 2004 or 2020 == 2222)"
   ]
  },
  {
   "cell_type": "markdown",
   "metadata": {},
   "source": [
    "<h2>5.</h2>\n",
    "Mana yang merupakan argument wajib dari function berikut: def function (a, b, p, q=None, r=True)\n",
    "\n",
    "a. r<br/>\n",
    "b. q<br/>\n",
    "c. q dan r<br/>\n",
    "d. a,b dan p<br/>\n",
    "e. Semuanya wajib ada\n",
    "\n",
    "<h3>Answer</h3>\n",
    "d. a, b dan p"
   ]
  },
  {
   "cell_type": "markdown",
   "metadata": {},
   "source": [
    "<h2>6.</h2>\n",
    "Manakah list comprehension yang dapat di assign ke dalam hasil2 sehingga hasil2 memiliki isi yang sama dengan hasil ?\n",
    "\n",
    "hasil = []\n",
    "\n",
    "for kota in kota2:\n",
    "    if kota[0] == 'B':\n",
    "        if len(kota)%2 == 0:\n",
    "            if kota[-1] == 'i':\n",
    "                hasil.append(kota)\n",
    "\n",
    "hasil2 = ...\n",
    "\n",
    "a. [kota for kota in kota2 if kota[0] == 'B' and len(kota)%2 == 0 and kota[-1] == 'i'] <br/>\n",
    "b. [kota for kota in kota2 if kota[0] == 'B', if len(kota2)%2 == 0, if kota[-1] == 'i'] <br/>\n",
    "c. [kota in kota2 if kota[0] == 'B' and if len(kota)%2 == 0 and if kota[-1] == 'i] <br/>\n",
    "d. [kota in kota2 if kota[0] == 'B' and len(kota)%2 == 0 and kota[-1] == 'i'] <br/>\n",
    "e. [kota for kota in kota2 if kota[0] == 'B' and if len(kota)%2 == 0 and if kota[-1] == 'i']"
   ]
  },
  {
   "cell_type": "code",
   "execution_count": 13,
   "metadata": {
    "tags": []
   },
   "outputs": [
    {
     "output_type": "stream",
     "name": "stdout",
     "text": "['Bandungi']\n"
    }
   ],
   "source": [
    "# answer 6.\n",
    "kota2 = ['Bandungi', 'Bogor', 'Amerika', 'Cilacap']\n",
    "hasil2 = [kota for kota in kota2 if kota[0] == 'B' and len(kota)%2 == 0 and kota[-1] == 'i']\n",
    "\n",
    "print(hasil2)"
   ]
  },
  {
   "cell_type": "markdown",
   "metadata": {},
   "source": [
    "<h2>7.</h2>\n",
    "Manakah cara yang salah/tidak dianjurkan dalam meng-copy list 'List' ke dalam 'List2' ? pilih 2 jawaban !\n",
    "\n",
    "a. List2 = List.copy() <br/>\n",
    "b. List2 = List[:] <br/>\n",
    "c. List2 = list(List) <br/>\n",
    "d. List2.copy() = List <br/>\n",
    "e. List2 = List"
   ]
  },
  {
   "cell_type": "code",
   "execution_count": 9,
   "metadata": {
    "tags": []
   },
   "outputs": [
    {
     "output_type": "error",
     "ename": "SyntaxError",
     "evalue": "can't assign to function call (<ipython-input-9-60d2882a9ec5>, line 6)",
     "traceback": [
      "\u001b[0;36m  File \u001b[0;32m\"<ipython-input-9-60d2882a9ec5>\"\u001b[0;36m, line \u001b[0;32m6\u001b[0m\n\u001b[0;31m    List5.copy() = List\u001b[0m\n\u001b[0m                       ^\u001b[0m\n\u001b[0;31mSyntaxError\u001b[0m\u001b[0;31m:\u001b[0m can't assign to function call\n"
     ]
    }
   ],
   "source": [
    "List = [1,2,3,4,5]\n",
    "\n",
    "List2 = List.copy()\n",
    "List3 = List[:]\n",
    "List4 = list(List)\n",
    "List5.copy() = List # error\n",
    "List6 = List # copy by reference"
   ]
  },
  {
   "cell_type": "markdown",
   "metadata": {},
   "source": [
    "<h2>8.</h2>\n",
    "Manakah nilai koefisien korelasi yang menunjukan bahwa korelasi antara dua random variabel sangat kuat ? pilih 2 jawaban!\n",
    "\n",
    "a. r = 0.123456789 <br/>\n",
    "b. r = 0.987654332 <br/>\n",
    "c. r = -0.111111111 <br/>\n",
    "d. r = 0 <br/>\n",
    "e. r = -0.999865454 \n",
    "\n",
    "<h3>Answer</h3>\n",
    "b dan e, karena semakin mendekati angka 1 atau -1, semakin kuat juga korelasinya"
   ]
  },
  {
   "cell_type": "markdown",
   "metadata": {},
   "source": [
    "<h2>9.</h2>\n",
    "Diketahui fungsi2 sebagai berikut, berapakah jumlah ayam, dimsum, dan batagr yang ada pada makanan jika kita memanggil yoyoyo sebanyak 1000 kali, ayayay sebanyak 3 kali, yeyeye, sebanyak 20 kali, dan ayeaye sebanyak 2 kali ?\n",
    "\n",
    "a. ayam = 400, dimsum = 1, batagor = 2 <br/>\n",
    "b. ayam = 997, dimsum = 20, batagor = 10 <br/>\n",
    "c. ayam = 400, dimsum = 20, batagor = 200 <br/>\n",
    "d. ayam = 1003, dimsum = 20, batagor = 20 <br/>\n",
    "e. ayam = 997, dimsum = 20, batagor = 2"
   ]
  },
  {
   "cell_type": "code",
   "execution_count": 15,
   "metadata": {
    "tags": []
   },
   "outputs": [
    {
     "output_type": "stream",
     "name": "stdout",
     "text": "[]\n"
    }
   ],
   "source": [
    "makanan = []\n",
    "def yoyoyo():\n",
    "    makanan.append('ayam')\n",
    "    return makanan\n",
    "\n",
    "def ayayay():\n",
    "    makanan.pop(200)\n",
    "    return makanan\n",
    "\n",
    "def yeyeye():\n",
    "    makanan.extend([\"dimsum\"])\n",
    "    return makanan\n",
    "\n",
    "def ayeaye():\n",
    "    makanan.insert(10, 'batagor')\n",
    "    return makanan\n",
    "\n",
    "# for i in range(250):\n",
    "#     yoyoyo() # akan meng-append 'ayam' ke list makanan\n",
    "# ayayay() # akan mengambil index ke 200 dari list makanan\n",
    "# yeyeye() # akan meng-extend dimsum ke makanan\n",
    "# ayeaye() # akan menginsert batagor ke index 10\n",
    "\n",
    "# jadi jawabannya E.\n",
    "\n",
    "print(makanan)"
   ]
  },
  {
   "cell_type": "markdown",
   "metadata": {},
   "source": [
    "<h2>10.</h2>\n",
    "Apakah perintah yang digunakan untuk melewati sisa suatu loop dan langsung melanjutkan ke loop berikutnya ketika suatu kondisi terpenuhi ?\n",
    "\n",
    "a. pass <br />\n",
    "b. break <br />\n",
    "c. return <br />\n",
    "d. skip <br />\n",
    "e. continue\n",
    "\n",
    "<h3>Answer</h3>\n",
    "e. continue"
   ]
  },
  {
   "cell_type": "markdown",
   "metadata": {},
   "source": [
    "<h2>11.</h2>\n",
    "Tipe data yang dihasilkan dari kamus.item() jika kita memiliki dictionary dengan nama kamus adalah ?\n",
    "\n",
    "a. string <br />\n",
    "b. tuple <br />\n",
    "c. dict_items <br />\n",
    "d. array <br />\n",
    "e. list\n",
    "\n",
    "<h3>Answer</h3>\n",
    "c. dict_items"
   ]
  },
  {
   "cell_type": "code",
   "execution_count": 21,
   "metadata": {
    "tags": []
   },
   "outputs": [
    {
     "output_type": "stream",
     "name": "stdout",
     "text": "dict_items([('brand', 'Ford'), ('model', 'Mustang'), ('year', '1964')])\n"
    }
   ],
   "source": [
    "kamus = {\n",
    "\"brand\": \"Ford\",\n",
    "\"model\": \"Mustang\",\n",
    "\"year\": \"1964\"\n",
    "}\n",
    "\n",
    "print(kamus.items())"
   ]
  },
  {
   "cell_type": "markdown",
   "metadata": {},
   "source": [
    "<h2>12.</h2>\n",
    "Cara mengimport module yang tidak benar adalah ? pilih 2 jawaban!\n",
    "\n",
    "a. import module * <br />\n",
    "b. from module import * as md <br />\n",
    "c. import module <br />\n",
    "d. import module as md <br />\n",
    "e. from module import *\n",
    "\n",
    "<h3>Answer</h3>\n",
    "a dan b"
   ]
  },
  {
   "cell_type": "markdown",
   "metadata": {},
   "source": [
    "<h2>13.</h2>\n",
    "\n",
    "Built-in methods yang hanya bisa dipanggil oleh list saja atau dictionary saja adalah? #pilih 2 jawaban\n",
    "\n",
    "a. clear() <br />\n",
    "b. extend() <br />\n",
    "c. pop() <br />\n",
    "d. copy() <br />\n",
    "e. values()\n",
    "\n",
    "<h3>Answer</h3>\n",
    "b dan e"
   ]
  },
  {
   "cell_type": "markdown",
   "metadata": {},
   "source": [
    "<h2>14.</h2>\n",
    "Manakah function yang dapat memberitahu kita nilai p-value dari x dan y? #pilih 2 jawaban \n",
    "\n",
    "a. scipy.stats.pearsonr(x, y) <br />\n",
    "b. scipy.stats.linregress(x, y) <br />\n",
    "c. np.corrcoef(x, y) <br />\n",
    "d. statistics.stdev(x, y) <br />\n",
    "e. np.cov(x, y)\n",
    "\n",
    "<h3>Answer</h3>\n",
    "a dan b"
   ]
  },
  {
   "cell_type": "markdown",
   "metadata": {},
   "source": [
    "<h2>15.</h2>\n",
    "\n",
    "Bagaimana cara memanggil method x() dari object p:\n",
    "\n",
    "a. x().p <br />\n",
    "b. p.x() <br />\n",
    "c. x(p) <br />\n",
    "d. p(x) <br />\n",
    "e. p = x()\n",
    "\n",
    "<h3>Answer</h3>\n",
    "b"
   ]
  }
 ],
 "metadata": {
  "language_info": {
   "codemirror_mode": {
    "name": "ipython",
    "version": 3
   },
   "file_extension": ".py",
   "mimetype": "text/x-python",
   "name": "python",
   "nbconvert_exporter": "python",
   "pygments_lexer": "ipython3",
   "version": "3.6.9-final"
  },
  "orig_nbformat": 2,
  "kernelspec": {
   "name": "python36964bitacb037f8edca4ee08d076121f3bf37eb",
   "display_name": "Python 3.6.9 64-bit"
  }
 },
 "nbformat": 4,
 "nbformat_minor": 2
}